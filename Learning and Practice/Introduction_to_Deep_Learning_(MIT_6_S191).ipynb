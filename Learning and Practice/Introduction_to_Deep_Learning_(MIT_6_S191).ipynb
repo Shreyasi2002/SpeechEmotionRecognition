{
  "nbformat": 4,
  "nbformat_minor": 0,
  "metadata": {
    "colab": {
      "name": "Introduction to Deep Learning (MIT 6.S191).ipynb",
      "provenance": [],
      "authorship_tag": "ABX9TyNEhF8DkSiyxRh+JaG1TjCw",
      "include_colab_link": true
    },
    "kernelspec": {
      "name": "python3",
      "display_name": "Python 3"
    },
    "language_info": {
      "name": "python"
    }
  },
  "cells": [
    {
      "cell_type": "markdown",
      "metadata": {
        "id": "view-in-github",
        "colab_type": "text"
      },
      "source": [
        "<a href=\"https://colab.research.google.com/github/Shreyasi2002/SpeechEmotionRecognition/blob/master/Introduction_to_Deep_Learning_(MIT_6_S191).ipynb\" target=\"_parent\"><img src=\"https://colab.research.google.com/assets/colab-badge.svg\" alt=\"Open In Colab\"/></a>"
      ]
    },
    {
      "cell_type": "markdown",
      "metadata": {
        "id": "aSjC61a2_I5M"
      },
      "source": [
        "## ***Building Neural Networks with Perceptrons***"
      ]
    },
    {
      "cell_type": "code",
      "metadata": {
        "id": "QjEidcVQ-_Ip"
      },
      "source": [
        "import tensorflow as tf\n",
        "layer =  tf.keras.layers.Dense(units = 2, activation = 'relu')"
      ],
      "execution_count": null,
      "outputs": []
    },
    {
      "cell_type": "markdown",
      "metadata": {
        "id": "q-BkSh0B_jfu"
      },
      "source": [
        "#### *Dense Layers from Scratch*"
      ]
    },
    {
      "cell_type": "code",
      "metadata": {
        "id": "7FfJ6fAx_pPR"
      },
      "source": [
        "class MyDenseLayer(tf.keras.layers.Layer):\n",
        "\n",
        "  def __init__(self, input_dim, output_dim):\n",
        "    super(MyDenseLayer, self).__init__()\n",
        "\n",
        "    # Initialize weights and bias\n",
        "    self.W = self.add_weight([input_dim, output_dim])\n",
        "    self.b = self.add_weight([1, output_dim])\n",
        "\n",
        "  def call(self, inputs):\n",
        "\n",
        "    # Forward propagating the inputs\n",
        "    z = tf.matmul(inputs, self.W) + self.b\n",
        "\n",
        "    # Feed through a non-linear activation function\n",
        "    output = tf.math.sigmoid(z)\n",
        "\n",
        "    return output"
      ],
      "execution_count": null,
      "outputs": []
    },
    {
      "cell_type": "markdown",
      "metadata": {
        "id": "hEpivH3APA7y"
      },
      "source": [
        "### *Multi-Output Perception*"
      ]
    },
    {
      "cell_type": "code",
      "metadata": {
        "id": "SreQpD3dheuv"
      },
      "source": [
        "model = tf.keras.Sequential([\n",
        "                             tf.keras.layers.Dense(10),\n",
        "                             tf.keras.layers.Dense(7),\n",
        "                             tf.keras.layers.Dense(2)\n",
        "                            ])"
      ],
      "execution_count": null,
      "outputs": []
    },
    {
      "cell_type": "markdown",
      "metadata": {
        "id": "N7n6uthZitpm"
      },
      "source": [
        "## ***Applying Neural Networks***"
      ]
    },
    {
      "cell_type": "markdown",
      "metadata": {
        "id": "Ip04qqJfn3wl"
      },
      "source": [
        "#### *Binary Cross Entropy Loss*"
      ]
    },
    {
      "cell_type": "code",
      "metadata": {
        "id": "C9zIX-MMiy4P"
      },
      "source": [
        "# loss = tf.reduce_mean(tf.nn.softmax_cross_entropy_with_logits(y, predicted))"
      ],
      "execution_count": null,
      "outputs": []
    },
    {
      "cell_type": "markdown",
      "metadata": {
        "id": "VMkDlgSEzfJo"
      },
      "source": [
        "#### *Mean Squared Error loss*"
      ]
    },
    {
      "cell_type": "code",
      "metadata": {
        "id": "pdDLmmv5zoEg"
      },
      "source": [
        "# loss = tf.reduce_mean(tf.square(tf.subtract(y, predicted)))"
      ],
      "execution_count": 1,
      "outputs": []
    },
    {
      "cell_type": "markdown",
      "metadata": {
        "id": "sRqYCW-R4DQy"
      },
      "source": [
        "#### ***Gradient Descent***"
      ]
    },
    {
      "cell_type": "code",
      "metadata": {
        "colab": {
          "base_uri": "https://localhost:8080/",
          "height": 235
        },
        "id": "jJbY3hA94Pa3",
        "outputId": "28556d0a-7068-445c-b1e3-1530549b9c0c"
      },
      "source": [
        "import tensorflow as tf\n",
        "\n",
        "weights = tf.Variable([tf.random.normal([2])])\n",
        "\n",
        "while True:\n",
        "  with tf.GradientTape() as g:\n",
        "    loss = compute_loss(weights)\n",
        "    gradient = g.gradient(loss, weight)\n",
        "\n",
        "  weights = weights - lr * gradient\n"
      ],
      "execution_count": 1,
      "outputs": [
        {
          "output_type": "error",
          "ename": "NameError",
          "evalue": "ignored",
          "traceback": [
            "\u001b[0;31m---------------------------------------------------------------------------\u001b[0m",
            "\u001b[0;31mNameError\u001b[0m                                 Traceback (most recent call last)",
            "\u001b[0;32m<ipython-input-1-473538be226d>\u001b[0m in \u001b[0;36m<module>\u001b[0;34m()\u001b[0m\n\u001b[1;32m      5\u001b[0m \u001b[0;32mwhile\u001b[0m \u001b[0;32mTrue\u001b[0m\u001b[0;34m:\u001b[0m\u001b[0;34m\u001b[0m\u001b[0;34m\u001b[0m\u001b[0m\n\u001b[1;32m      6\u001b[0m   \u001b[0;32mwith\u001b[0m \u001b[0mtf\u001b[0m\u001b[0;34m.\u001b[0m\u001b[0mGradientTape\u001b[0m\u001b[0;34m(\u001b[0m\u001b[0;34m)\u001b[0m \u001b[0;32mas\u001b[0m \u001b[0mg\u001b[0m\u001b[0;34m:\u001b[0m\u001b[0;34m\u001b[0m\u001b[0;34m\u001b[0m\u001b[0m\n\u001b[0;32m----> 7\u001b[0;31m     \u001b[0mloss\u001b[0m \u001b[0;34m=\u001b[0m \u001b[0mcompute_loss\u001b[0m\u001b[0;34m(\u001b[0m\u001b[0mweights\u001b[0m\u001b[0;34m)\u001b[0m\u001b[0;34m\u001b[0m\u001b[0;34m\u001b[0m\u001b[0m\n\u001b[0m\u001b[1;32m      8\u001b[0m     \u001b[0mgradient\u001b[0m \u001b[0;34m=\u001b[0m \u001b[0mg\u001b[0m\u001b[0;34m.\u001b[0m\u001b[0mgradient\u001b[0m\u001b[0;34m(\u001b[0m\u001b[0mloss\u001b[0m\u001b[0;34m,\u001b[0m \u001b[0mweight\u001b[0m\u001b[0;34m)\u001b[0m\u001b[0;34m\u001b[0m\u001b[0;34m\u001b[0m\u001b[0m\n\u001b[1;32m      9\u001b[0m \u001b[0;34m\u001b[0m\u001b[0m\n",
            "\u001b[0;31mNameError\u001b[0m: name 'compute_loss' is not defined"
          ]
        }
      ]
    },
    {
      "cell_type": "markdown",
      "metadata": {
        "id": "1T1CCLnSb9_B"
      },
      "source": [
        "##### *Gradient Descent Algorithms*"
      ]
    },
    {
      "cell_type": "code",
      "metadata": {
        "colab": {
          "base_uri": "https://localhost:8080/"
        },
        "id": "XKd26umccEOA",
        "outputId": "38308de3-30e8-41d8-cd7f-227e7dff96ad"
      },
      "source": [
        "# SGD Algorithm\n",
        "tf.keras.optimizers.SGD()\n",
        "\n",
        "# Adam Algorithm\n",
        "tf.keras.optimizers.Adam()\n",
        "\n",
        "# Adadelta Algorithm\n",
        "tf.keras.optimizers.Adadelta()\n",
        "\n",
        "# Adagrad Algorithm\n",
        "tf.keras.optimizers.Adagrad()\n",
        "\n",
        "# RMSprop Algorithm\n",
        "tf.keras.optimizers.RMSprop()\n"
      ],
      "execution_count": 3,
      "outputs": [
        {
          "output_type": "execute_result",
          "data": {
            "text/plain": [
              "<tensorflow.python.keras.optimizer_v2.rmsprop.RMSprop at 0x7f1cdd38f550>"
            ]
          },
          "metadata": {
            "tags": []
          },
          "execution_count": 3
        }
      ]
    },
    {
      "cell_type": "code",
      "metadata": {
        "colab": {
          "base_uri": "https://localhost:8080/"
        },
        "id": "8GTOM61wdBNO",
        "outputId": "2452d3b8-d9ee-4911-8c18-ad9c6527a50c"
      },
      "source": [
        "# REGULARIZATION :Dropout\n",
        "tf.keras.layers.Dropout(rate = 0.5)\n"
      ],
      "execution_count": 6,
      "outputs": [
        {
          "output_type": "execute_result",
          "data": {
            "text/plain": [
              "<tensorflow.python.keras.layers.core.Dropout at 0x7f1cdd0bf710>"
            ]
          },
          "metadata": {
            "tags": []
          },
          "execution_count": 6
        }
      ]
    },
    {
      "cell_type": "markdown",
      "metadata": {
        "id": "GTMNmXqhdWs9"
      },
      "source": [
        "#### ***Putting it all together***"
      ]
    },
    {
      "cell_type": "code",
      "metadata": {
        "colab": {
          "base_uri": "https://localhost:8080/",
          "height": 235
        },
        "id": "uU0LydXrdaUz",
        "outputId": "c73676c4-a7fc-4975-a8a9-10c0f9f8a056"
      },
      "source": [
        "model = tf.keras.Sequential([\n",
        "                             tf.keras.layers.Dense(10),\n",
        "                             tf.keras.layers.Dense(7),\n",
        "                             tf.keras.layers.Dense(2)\n",
        "])\n",
        "\n",
        "optimizer = tf.keras.optimizers.Adam()\n",
        "while True:\n",
        "  prediction = model(x)\n",
        "  with tf.GradientTape() as tape:\n",
        "\n",
        "    loss = compute_loss(y, prediction)\n",
        "\n",
        "  grads = tape.gradient(loss, model.trainable_variables)\n",
        "  optimizer.apply_gradients(zip(grads, model.trainable_variables))"
      ],
      "execution_count": 9,
      "outputs": [
        {
          "output_type": "error",
          "ename": "NameError",
          "evalue": "ignored",
          "traceback": [
            "\u001b[0;31m---------------------------------------------------------------------------\u001b[0m",
            "\u001b[0;31mNameError\u001b[0m                                 Traceback (most recent call last)",
            "\u001b[0;32m<ipython-input-9-aa810ae2ce25>\u001b[0m in \u001b[0;36m<module>\u001b[0;34m()\u001b[0m\n\u001b[1;32m      7\u001b[0m \u001b[0moptimizer\u001b[0m \u001b[0;34m=\u001b[0m \u001b[0mtf\u001b[0m\u001b[0;34m.\u001b[0m\u001b[0mkeras\u001b[0m\u001b[0;34m.\u001b[0m\u001b[0moptimizers\u001b[0m\u001b[0;34m.\u001b[0m\u001b[0mAdam\u001b[0m\u001b[0;34m(\u001b[0m\u001b[0;34m)\u001b[0m\u001b[0;34m\u001b[0m\u001b[0;34m\u001b[0m\u001b[0m\n\u001b[1;32m      8\u001b[0m \u001b[0;32mwhile\u001b[0m \u001b[0;32mTrue\u001b[0m\u001b[0;34m:\u001b[0m\u001b[0;34m\u001b[0m\u001b[0;34m\u001b[0m\u001b[0m\n\u001b[0;32m----> 9\u001b[0;31m   \u001b[0mprediction\u001b[0m \u001b[0;34m=\u001b[0m \u001b[0mmodel\u001b[0m\u001b[0;34m(\u001b[0m\u001b[0mx\u001b[0m\u001b[0;34m)\u001b[0m\u001b[0;34m\u001b[0m\u001b[0;34m\u001b[0m\u001b[0m\n\u001b[0m\u001b[1;32m     10\u001b[0m   \u001b[0;32mwith\u001b[0m \u001b[0mtf\u001b[0m\u001b[0;34m.\u001b[0m\u001b[0mGradientTape\u001b[0m\u001b[0;34m(\u001b[0m\u001b[0;34m)\u001b[0m \u001b[0;32mas\u001b[0m \u001b[0mtape\u001b[0m\u001b[0;34m:\u001b[0m\u001b[0;34m\u001b[0m\u001b[0;34m\u001b[0m\u001b[0m\n\u001b[1;32m     11\u001b[0m \u001b[0;34m\u001b[0m\u001b[0m\n",
            "\u001b[0;31mNameError\u001b[0m: name 'x' is not defined"
          ]
        }
      ]
    }
  ]
}
