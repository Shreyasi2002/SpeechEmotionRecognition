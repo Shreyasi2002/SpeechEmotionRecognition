{
  "nbformat": 4,
  "nbformat_minor": 0,
  "metadata": {
    "colab": {
      "name": "Assignment 1.ipynb",
      "provenance": [],
      "collapsed_sections": []
    },
    "kernelspec": {
      "name": "python3",
      "display_name": "Python 3"
    },
    "language_info": {
      "name": "python"
    },
    "accelerator": "GPU"
  },
  "cells": [
    {
      "cell_type": "markdown",
      "metadata": {
        "id": "UkJr6Lh9aIem"
      },
      "source": [
        "## Question 1 : Linear Regression\n",
        "To check whether you are able to build simple linear regression model from scratch or not."
      ]
    },
    {
      "cell_type": "code",
      "metadata": {
        "id": "wq1ZliSEuhTw",
        "colab": {
          "base_uri": "https://localhost:8080/"
        },
        "outputId": "9900a2e7-8355-47eb-c32a-6befa7110aab"
      },
      "source": [
        "import numpy as np\n",
        "import matplotlib.pyplot as plt\n",
        " \n",
        "!wget --no-check-certificate https://github.com/adigup390/datasets/raw/main/X.npy -O X.npy\n",
        "!wget --no-check-certificate https://github.com/adigup390/datasets/raw/main/y.npy -O y.npy"
      ],
      "execution_count": 1,
      "outputs": [
        {
          "output_type": "stream",
          "text": [
            "--2021-05-28 03:31:30--  https://github.com/adigup390/datasets/raw/main/X.npy\n",
            "Resolving github.com (github.com)... 192.30.255.112\n",
            "Connecting to github.com (github.com)|192.30.255.112|:443... connected.\n",
            "HTTP request sent, awaiting response... 302 Found\n",
            "Location: https://raw.githubusercontent.com/adigup390/datasets/main/X.npy [following]\n",
            "--2021-05-28 03:31:30--  https://raw.githubusercontent.com/adigup390/datasets/main/X.npy\n",
            "Resolving raw.githubusercontent.com (raw.githubusercontent.com)... 185.199.108.133, 185.199.109.133, 185.199.110.133, ...\n",
            "Connecting to raw.githubusercontent.com (raw.githubusercontent.com)|185.199.108.133|:443... connected.\n",
            "HTTP request sent, awaiting response... 200 OK\n",
            "Length: 528 [application/octet-stream]\n",
            "Saving to: ‘X.npy’\n",
            "\n",
            "X.npy               100%[===================>]     528  --.-KB/s    in 0s      \n",
            "\n",
            "2021-05-28 03:31:30 (31.3 MB/s) - ‘X.npy’ saved [528/528]\n",
            "\n",
            "--2021-05-28 03:31:30--  https://github.com/adigup390/datasets/raw/main/y.npy\n",
            "Resolving github.com (github.com)... 192.30.255.112\n",
            "Connecting to github.com (github.com)|192.30.255.112|:443... connected.\n",
            "HTTP request sent, awaiting response... 302 Found\n",
            "Location: https://raw.githubusercontent.com/adigup390/datasets/main/y.npy [following]\n",
            "--2021-05-28 03:31:31--  https://raw.githubusercontent.com/adigup390/datasets/main/y.npy\n",
            "Resolving raw.githubusercontent.com (raw.githubusercontent.com)... 185.199.108.133, 185.199.109.133, 185.199.110.133, ...\n",
            "Connecting to raw.githubusercontent.com (raw.githubusercontent.com)|185.199.108.133|:443... connected.\n",
            "HTTP request sent, awaiting response... 200 OK\n",
            "Length: 528 [application/octet-stream]\n",
            "Saving to: ‘y.npy’\n",
            "\n",
            "y.npy               100%[===================>]     528  --.-KB/s    in 0s      \n",
            "\n",
            "2021-05-28 03:31:31 (25.7 MB/s) - ‘y.npy’ saved [528/528]\n",
            "\n"
          ],
          "name": "stdout"
        }
      ]
    },
    {
      "cell_type": "code",
      "metadata": {
        "id": "021fTYdwTkZm"
      },
      "source": [
        "def load_data_LR():\n",
        "  # Implement this function to read the dataset using the path declared in path_X and path_y\n",
        "  # should return the X and y data\n",
        "  # use np.load() to load the data google it you will get to know how to do it\n",
        "\n",
        "  path_X = \"X.npy\"\n",
        "  path_y = \"y.npy\"\n",
        "\n",
        "  X = np.load(path_X)\n",
        "  y = np.load(path_y)\n",
        "\n",
        "  return X, y"
      ],
      "execution_count": 2,
      "outputs": []
    },
    {
      "cell_type": "code",
      "metadata": {
        "id": "Ngg3QUyTfBxC"
      },
      "source": [
        "def get_linear_model(X, y):\n",
        "  # This shoudl return a proper linear model without bias of type y = XW\n",
        "\n",
        "  D = X.shape[1]\n",
        "  out_shape = 1\n",
        "  \n",
        "  W = np.random.randn(D, out_shape)\n",
        "\n",
        "  return W"
      ],
      "execution_count": 3,
      "outputs": []
    },
    {
      "cell_type": "code",
      "metadata": {
        "id": "c52FIGu-hlzM"
      },
      "source": [
        "def MSE(y, y_pred):\n",
        "  # should return the mean square error between the actual y and predicted y\n",
        "\n",
        "  m = y.shape[0]\n",
        "  error = np.sum((y-y_pred)**2)/(2*m)\n",
        "\n",
        "  return error"
      ],
      "execution_count": 4,
      "outputs": []
    },
    {
      "cell_type": "code",
      "metadata": {
        "id": "zrBrqA15hCdT"
      },
      "source": [
        "def train_by_algebra(X, y):\n",
        "  # should return the trained weight 'W' using the linear algebra method i.e. setting dE/dW = 0\n",
        "\n",
        "  W = np.linalg.inv(X.T@X)@X.T@y\n",
        "\n",
        "  return W"
      ],
      "execution_count": 5,
      "outputs": []
    },
    {
      "cell_type": "code",
      "metadata": {
        "id": "kJ_r_R1PixX2"
      },
      "source": [
        "def train_by_GD(X, y, epochs=5, lr=0.01):\n",
        "  # should return the trained weight 'W' using the gradient descent for number of iterations equals to epochs\n",
        "  # should also return error history int the cariable error_hist.shape = (epochs,); error_hist[i] = mean square error after epoch i-1\n",
        "  # should also print mean square error after each epoch/ iteration\n",
        "  # lr = \"learning rate\" i.e. eta\n",
        "  \n",
        "  j=[]\n",
        "  m = y.shape[0]\n",
        "  theta = get_linear_model(X,y)\n",
        "  for i in range(epochs):\n",
        "    yp = X@theta\n",
        "    j.append(MSE(y,yp))\n",
        "    theta-=lr*(np.sum((yp-y)*X))/m\n",
        "\n",
        "  error_hist = j\n",
        "  W = theta\n",
        "\n",
        "  return W, error_hist"
      ],
      "execution_count": 6,
      "outputs": []
    },
    {
      "cell_type": "markdown",
      "metadata": {
        "id": "uLTxFIOgkdjJ"
      },
      "source": [
        "### Now write a complete code using the function defined above to learn the model for following cases:"
      ]
    },
    {
      "cell_type": "markdown",
      "metadata": {
        "id": "eYW1AukM378a"
      },
      "source": [
        "##### Learn **W** using linear algebra method and prints mean square error between actual y and predicted y. Use `y_pred = XW`. Also plot y_pred and y on different plots."
      ]
    },
    {
      "cell_type": "code",
      "metadata": {
        "id": "AIRs0jB-kOZU",
        "colab": {
          "base_uri": "https://localhost:8080/",
          "height": 283
        },
        "outputId": "8696ff2f-701d-4d9e-ee3d-e691059effea"
      },
      "source": [
        "X,y = load_data_LR()\n",
        "W = train_by_algebra(X,y)\n",
        "yp = X@W\n",
        "\n",
        "plt.scatter(X,y,label='y')\n",
        "plt.plot(X,yp,label='predicted_y', color='red')\n",
        "plt.legend(loc=0)\n",
        "plt.show()\n",
        "\n",
        "print(MSE(y,yp))"
      ],
      "execution_count": 7,
      "outputs": [
        {
          "output_type": "display_data",
          "data": {
            "image/png": "[encoded data removed]",
            "text/plain": [
              "<Figure size 432x288 with 1 Axes>"
            ]
          },
          "metadata": {
            "tags": [],
            "needs_background": "light"
          }
        },
        {
          "output_type": "stream",
          "text": [
            "2.7450299103219113\n"
          ],
          "name": "stdout"
        }
      ]
    },
    {
      "cell_type": "markdown",
      "metadata": {
        "id": "6kP77_sK4CpT"
      },
      "source": [
        "##### Learn **W** using gradient descent method for following learning rates, `lr = [0.01, 0.001, 0.0001]` for **10 epochs**. Plot **MSE vs epochs** for each of them.  Also plot y_pred and y on different plots."
      ]
    },
    {
      "cell_type": "code",
      "metadata": {
        "id": "1bac27RT4G2H",
        "colab": {
          "base_uri": "https://localhost:8080/",
          "height": 546
        },
        "outputId": "fc5d4c3c-d649-4b84-8751-f7f427d516e7"
      },
      "source": [
        "w1,j1 = train_by_GD(X,y,10,lr=0.01)\n",
        "w2,j2 = train_by_GD(X,y,10,0.001)\n",
        "w3,j3 = train_by_GD(X,y,10,0.0001)\n",
        "\n",
        "yp1 = X@w1\n",
        "yp2 = X@w2\n",
        "yp3 = X@w3\n",
        "\n",
        "ep = range(10)\n",
        "plt.plot(ep,j1,label = 'LR=0.01')\n",
        "plt.plot(ep,j2,label='LR=0.001')\n",
        "plt.plot(ep,j3,label='LR=0.0001')\n",
        "plt.title(\"Error vs Epochs\")\n",
        "plt.xlabel(\"Epochs\")\n",
        "plt.ylabel(\"Error\")\n",
        "plt.legend(loc=0)\n",
        "plt.show()\n",
        "\n",
        "plt.scatter(X,y,label='y')\n",
        "plt.plot(X,yp1,label='predicted_y for lr=0.01',)\n",
        "plt.plot(X,yp2,label='predicted_y for lr=0.001')\n",
        "plt.plot(X,yp3,label='predicted_y for lr=0.0001')\n",
        "plt.legend(loc=0)\n",
        "plt.show()"
      ],
      "execution_count": 8,
      "outputs": [
        {
          "output_type": "display_data",
          "data": {
            "image/png": "[encoded data removed]",
            "text/plain": [
              "<Figure size 432x288 with 1 Axes>"
            ]
          },
          "metadata": {
            "tags": [],
            "needs_background": "light"
          }
        },
        {
          "output_type": "display_data",
          "data": {
            "image/png": "[encoded data removed]",
            "text/plain": [
              "<Figure size 432x288 with 1 Axes>"
            ]
          },
          "metadata": {
            "tags": [],
            "needs_background": "light"
          }
        }
      ]
    },
    {
      "cell_type": "code",
      "metadata": {
        "id": "mna7Uh0vJuNe"
      },
      "source": [
        ""
      ],
      "execution_count": null,
      "outputs": []
    },
    {
      "cell_type": "markdown",
      "metadata": {
        "id": "4zJO-LIvn6sD"
      },
      "source": [
        "## Question 2: Image Classification in Tensorflow using Deep Learning\n",
        "To check whether you are able to build a given neural network model in tensorflow or not. First we will build a fully connected NN model second we will build a CNN model."
      ]
    },
    {
      "cell_type": "code",
      "metadata": {
        "id": "7mynGfqRn24b"
      },
      "source": [
        "import numpy as np\n",
        "import tensorflow as tf\n",
        "import matplotlib.pyplot as plt"
      ],
      "execution_count": 2,
      "outputs": []
    },
    {
      "cell_type": "code",
      "metadata": {
        "id": "s8WKt-qY4agV"
      },
      "source": [
        "def plot_history(history):\n",
        "  # function to plot accuracy vs epoch\n",
        "\n",
        "  plt.plot(history.history['accuracy'], label='accuracy')\n",
        "  plt.plot(history.history['val_accuracy'], label = 'val_accuracy')\n",
        "  plt.xlabel('Epoch')\n",
        "  plt.ylabel('Accuracy')\n",
        "  plt.legend(loc='lower right')"
      ],
      "execution_count": 3,
      "outputs": []
    },
    {
      "cell_type": "code",
      "metadata": {
        "id": "tCT9Kmhhn5I_"
      },
      "source": [
        "def load_data_cifar10_norm():\n",
        "  # should return the normalised cifar10 dataset by loading it from tensorflow\n",
        "  # link: https://www.tensorflow.org/api_docs/python/tf/keras/datasets/cifar10/\n",
        "\n",
        "  data = tf.keras.datasets.cifar10\n",
        "  (x_train,y_train),(x_test,y_test) = data.load_data()\n",
        "\n",
        "  return x_train, y_train, x_test, y_test"
      ],
      "execution_count": 4,
      "outputs": []
    },
    {
      "cell_type": "markdown",
      "metadata": {
        "id": "LDpHSTRPvS9t"
      },
      "source": [
        "### Define a fully connected neural network model with following attributes:\n",
        "\n",
        "*   Total number of **hidden layers = 4**, all with **relu** activation\n",
        "*   Number of neurons in **first hidden layer = 7200**\n",
        "*   Number of neurons in **second hidden layer = 2304**\n",
        "*   Number of neurons in **third hidden layer = 1024**\n",
        "*   Number of neurons in **fourth hidden layer = 64**\n"
      ]
    },
    {
      "cell_type": "code",
      "metadata": {
        "id": "VYYQzIWnqU3t"
      },
      "source": [
        "def build_fc_model(input_shape=(32, 32, 3), num_class=10):\n",
        "  # should return a sequential model defined based on the above attributes\n",
        "  # do not compile the model\n",
        "\n",
        "  model = tf.keras.Sequential([\n",
        "    tf.keras.layers.Flatten(input_shape=input_shape),\n",
        "    tf.keras.layers.Dense(7200,activation='relu'),\n",
        "    tf.keras.layers.Dense(2304,activation='relu'),\n",
        "    tf.keras.layers.Dense(1024,activation='relu'),\n",
        "    tf.keras.layers.Dense(64,activation='relu'),\n",
        "    tf.keras.layers.Dense(num_class,activation='softmax')\n",
        "  ])\n",
        "\n",
        "\n",
        "  return model"
      ],
      "execution_count": 5,
      "outputs": []
    },
    {
      "cell_type": "markdown",
      "metadata": {
        "id": "pdcQ2yqz1RYH"
      },
      "source": [
        "### Define a CNN model with following attribute:\n",
        "\n",
        "*   Total number of **hidden layer = 4**\n",
        "*   After every convolutional layer there must be a MaxPoolingLayer of size (2, 2)\n",
        "*   Total number of convolutional layer = 3, all with **relu** activation.\n",
        "    *    Number of filters in **first convolutional layer = 32**\n",
        "    *    Number of filters in **second convolutional layer = 64**\n",
        "    *    Number of filters in **third convolutional layer = 64**\n",
        "*   After all convolutional layer flatten the output and use **dense layer of 64 neurons**\n",
        "\n"
      ]
    },
    {
      "cell_type": "code",
      "metadata": {
        "id": "T00AYU3D3L1j"
      },
      "source": [
        "def build_cnn_model(input_shape=(32, 32, 3), num_class=10):\n",
        "  # should return a sequential model defined based on the above attributes\n",
        "  # do not compile the model\n",
        "\n",
        "  model = tf.keras.Sequential([\n",
        "    tf.keras.layers.Conv2D(32,kernel_size=(3,3),activation='relu',input_shape=input_shape),\n",
        "    tf.keras.layers.MaxPooling2D(2,2),\n",
        "    tf.keras.layers.Conv2D(64,kernel_size=(3,3),activation='relu'),\n",
        "    tf.keras.layers.MaxPooling2D(2,2),\n",
        "    tf.keras.layers.Conv2D(64,kernel_size=(3,3),activation='relu'),\n",
        "    tf.keras.layers.MaxPooling2D(2,2),\n",
        "    tf.keras.layers.Flatten(),\n",
        "    tf.keras.layers.Dense(64,activation='relu'),\n",
        "    tf.keras.layers.Dense(num_class,activation='softmax')\n",
        "  ])\n",
        "  return model"
      ],
      "execution_count": 6,
      "outputs": []
    },
    {
      "cell_type": "markdown",
      "metadata": {
        "id": "7SXXUeRp4Urq"
      },
      "source": [
        "### Compile and train the fully connected neural network model using the above functions."
      ]
    },
    {
      "cell_type": "code",
      "metadata": {
        "colab": {
          "base_uri": "https://localhost:8080/"
        },
        "id": "8wwSt2cbKFN1",
        "outputId": "11b223c5-22f8-4e2a-cf05-c84d0e372d38"
      },
      "source": [
        "x_train, y_train, x_test, y_test = load_data_cifar10_norm()\n",
        "# plt.imshow(x_train[0])\n",
        "# plt.imshow(x_train[1000])\n",
        "print(x_train.shape)"
      ],
      "execution_count": 7,
      "outputs": [
        {
          "output_type": "stream",
          "text": [
            "Downloading data from https://www.cs.toronto.edu/~kriz/cifar-10-python.tar.gz\n",
            "170500096/170498071 [==============================] - 4s 0us/step\n",
            "(50000, 32, 32, 3)\n"
          ],
          "name": "stdout"
        }
      ]
    },
    {
      "cell_type": "code",
      "metadata": {
        "id": "61_XiEUR3eV0",
        "colab": {
          "base_uri": "https://localhost:8080/",
          "height": 989
        },
        "outputId": "086f0474-e2c8-439d-f0d1-5c562a23909e"
      },
      "source": [
        "\n",
        "model = build_fc_model()\n",
        "model.compile(optimizer= 'rmsprop', loss='sparse_categorical_crossentropy',metrics=['accuracy'])\n",
        "\n",
        "history = model.fit(x_train, y_train, epochs=10, batch_size=512,\n",
        "                    validation_data=(x_test, y_test))\n",
        "\n",
        "plot_history(history)\n",
        "plt.title(\"Figure 1\")\n",
        "model.summary()"
      ],
      "execution_count": 14,
      "outputs": [
        {
          "output_type": "stream",
          "text": [
            "Epoch 1/10\n",
            "98/98 [==============================] - 4s 40ms/step - loss: 1941.1301 - accuracy: 0.0987 - val_loss: 2.3028 - val_accuracy: 0.1000\n",
            "Epoch 2/10\n",
            "98/98 [==============================] - 4s 38ms/step - loss: 35.2541 - accuracy: 0.0994 - val_loss: 2.3026 - val_accuracy: 0.1000\n",
            "Epoch 3/10\n",
            "98/98 [==============================] - 4s 38ms/step - loss: 2.3027 - accuracy: 0.0989 - val_loss: 2.3026 - val_accuracy: 0.1000\n",
            "Epoch 4/10\n",
            "98/98 [==============================] - 4s 38ms/step - loss: 2.3026 - accuracy: 0.0980 - val_loss: 2.3026 - val_accuracy: 0.1000\n",
            "Epoch 5/10\n",
            "98/98 [==============================] - 4s 39ms/step - loss: 2.3026 - accuracy: 0.0974 - val_loss: 2.3026 - val_accuracy: 0.1000\n",
            "Epoch 6/10\n",
            "98/98 [==============================] - 4s 39ms/step - loss: 2.3027 - accuracy: 0.0995 - val_loss: 2.3026 - val_accuracy: 0.1000\n",
            "Epoch 7/10\n",
            "98/98 [==============================] - 4s 39ms/step - loss: 2.3026 - accuracy: 0.0994 - val_loss: 2.3026 - val_accuracy: 0.1000\n",
            "Epoch 8/10\n",
            "98/98 [==============================] - 4s 39ms/step - loss: 2.3026 - accuracy: 0.0991 - val_loss: 2.3026 - val_accuracy: 0.1000\n",
            "Epoch 9/10\n",
            "98/98 [==============================] - 4s 39ms/step - loss: 2.3026 - accuracy: 0.0975 - val_loss: 2.3026 - val_accuracy: 0.1000\n",
            "Epoch 10/10\n",
            "98/98 [==============================] - 4s 38ms/step - loss: 2.3026 - accuracy: 0.0989 - val_loss: 2.3026 - val_accuracy: 0.1000\n",
            "Model: \"sequential_6\"\n",
            "_________________________________________________________________\n",
            "Layer (type)                 Output Shape              Param #   \n",
            "=================================================================\n",
            "flatten_6 (Flatten)          (None, 3072)              0         \n",
            "_________________________________________________________________\n",
            "dense_18 (Dense)             (None, 7200)              22125600  \n",
            "_________________________________________________________________\n",
            "dense_19 (Dense)             (None, 2304)              16591104  \n",
            "_________________________________________________________________\n",
            "dense_20 (Dense)             (None, 1024)              2360320   \n",
            "_________________________________________________________________\n",
            "dense_21 (Dense)             (None, 64)                65600     \n",
            "_________________________________________________________________\n",
            "dense_22 (Dense)             (None, 10)                650       \n",
            "=================================================================\n",
            "Total params: 41,143,274\n",
            "Trainable params: 41,143,274\n",
            "Non-trainable params: 0\n",
            "_________________________________________________________________\n"
          ],
          "name": "stdout"
        },
        {
          "output_type": "display_data",
          "data": {
            "image/png": "[encoded data removed]",
            "text/plain": [
              "<Figure size 432x288 with 1 Axes>"
            ]
          },
          "metadata": {
            "tags": [],
            "needs_background": "light"
          }
        }
      ]
    },
    {
      "cell_type": "markdown",
      "metadata": {
        "id": "Z_yHXGc47ENb"
      },
      "source": [
        "### Compile and train the CNN model using the above functions."
      ]
    },
    {
      "cell_type": "code",
      "metadata": {
        "id": "aM9rueu97Gnq",
        "colab": {
          "base_uri": "https://localhost:8080/",
          "height": 1000
        },
        "outputId": "d0bb53bb-ba2b-4210-d320-6392c9db99a6"
      },
      "source": [
        "model = build_cnn_model(x_train[0].shape)\n",
        "model.compile(optimizer = 'rmsprop',loss = 'sparse_categorical_crossentropy',metrics=['accuracy'])\n",
        "history = model.fit(x_train, y_train, epochs=10, batch_size=512,\n",
        "                    validation_data=(x_test, y_test))\n",
        "\n",
        "plot_history(history)\n",
        "plt.title(\"Figure 2\")\n",
        "model.summary()"
      ],
      "execution_count": 15,
      "outputs": [
        {
          "output_type": "stream",
          "text": [
            "Epoch 1/10\n",
            "98/98 [==============================] - 2s 16ms/step - loss: 5.9382 - accuracy: 0.1979 - val_loss: 2.0101 - val_accuracy: 0.2807\n",
            "Epoch 2/10\n",
            "98/98 [==============================] - 1s 14ms/step - loss: 1.9040 - accuracy: 0.3306 - val_loss: 2.0134 - val_accuracy: 0.2937\n",
            "Epoch 3/10\n",
            "98/98 [==============================] - 1s 14ms/step - loss: 1.6549 - accuracy: 0.4184 - val_loss: 1.6090 - val_accuracy: 0.4411\n",
            "Epoch 4/10\n",
            "98/98 [==============================] - 1s 14ms/step - loss: 1.5067 - accuracy: 0.4772 - val_loss: 1.4140 - val_accuracy: 0.5075\n",
            "Epoch 5/10\n",
            "98/98 [==============================] - 1s 14ms/step - loss: 1.3809 - accuracy: 0.5197 - val_loss: 1.4495 - val_accuracy: 0.4958\n",
            "Epoch 6/10\n",
            "98/98 [==============================] - 1s 14ms/step - loss: 1.2903 - accuracy: 0.5500 - val_loss: 1.3197 - val_accuracy: 0.5464\n",
            "Epoch 7/10\n",
            "98/98 [==============================] - 1s 14ms/step - loss: 1.2155 - accuracy: 0.5791 - val_loss: 1.3345 - val_accuracy: 0.5410\n",
            "Epoch 8/10\n",
            "98/98 [==============================] - 1s 14ms/step - loss: 1.1432 - accuracy: 0.6054 - val_loss: 1.2377 - val_accuracy: 0.5720\n",
            "Epoch 9/10\n",
            "98/98 [==============================] - 1s 14ms/step - loss: 1.0774 - accuracy: 0.6281 - val_loss: 1.2515 - val_accuracy: 0.5881\n",
            "Epoch 10/10\n",
            "98/98 [==============================] - 1s 14ms/step - loss: 1.0217 - accuracy: 0.6483 - val_loss: 1.1723 - val_accuracy: 0.6053\n",
            "Model: \"sequential_7\"\n",
            "_________________________________________________________________\n",
            "Layer (type)                 Output Shape              Param #   \n",
            "=================================================================\n",
            "conv2d_12 (Conv2D)           (None, 30, 30, 32)        896       \n",
            "_________________________________________________________________\n",
            "max_pooling2d_12 (MaxPooling (None, 15, 15, 32)        0         \n",
            "_________________________________________________________________\n",
            "conv2d_13 (Conv2D)           (None, 13, 13, 64)        18496     \n",
            "_________________________________________________________________\n",
            "max_pooling2d_13 (MaxPooling (None, 6, 6, 64)          0         \n",
            "_________________________________________________________________\n",
            "conv2d_14 (Conv2D)           (None, 4, 4, 64)          36928     \n",
            "_________________________________________________________________\n",
            "max_pooling2d_14 (MaxPooling (None, 2, 2, 64)          0         \n",
            "_________________________________________________________________\n",
            "flatten_7 (Flatten)          (None, 256)               0         \n",
            "_________________________________________________________________\n",
            "dense_23 (Dense)             (None, 64)                16448     \n",
            "_________________________________________________________________\n",
            "dense_24 (Dense)             (None, 10)                650       \n",
            "=================================================================\n",
            "Total params: 73,418\n",
            "Trainable params: 73,418\n",
            "Non-trainable params: 0\n",
            "_________________________________________________________________\n"
          ],
          "name": "stdout"
        },
        {
          "output_type": "display_data",
          "data": {
            "image/png": "[encoded data removed]",
            "text/plain": [
              "<Figure size 432x288 with 1 Axes>"
            ]
          },
          "metadata": {
            "tags": [],
            "needs_background": "light"
          }
        }
      ]
    },
    {
      "cell_type": "code",
      "metadata": {
        "colab": {
          "base_uri": "https://localhost:8080/",
          "height": 1000
        },
        "id": "ttemGDMFLT5y",
        "outputId": "879bf671-1e38-463e-89f0-028e03c52f03"
      },
      "source": [
        "model = build_cnn_model(x_train[0].shape)\n",
        "model.compile(optimizer = 'rmsprop',loss = 'sparse_categorical_crossentropy',metrics=['accuracy'])\n",
        "history = model.fit(x_train, y_train, epochs=20, batch_size=512,\n",
        "                    validation_data=(x_test, y_test))\n",
        "\n",
        "plot_history(history)\n",
        "plt.title(\"Figure 3\")\n",
        "model.summary()"
      ],
      "execution_count": 16,
      "outputs": [
        {
          "output_type": "stream",
          "text": [
            "Epoch 1/20\n",
            "98/98 [==============================] - 2s 17ms/step - loss: 3.9599 - accuracy: 0.2187 - val_loss: 1.9122 - val_accuracy: 0.3133\n",
            "Epoch 2/20\n",
            "98/98 [==============================] - 1s 14ms/step - loss: 1.7687 - accuracy: 0.3673 - val_loss: 1.6262 - val_accuracy: 0.4221\n",
            "Epoch 3/20\n",
            "98/98 [==============================] - 1s 14ms/step - loss: 1.5309 - accuracy: 0.4572 - val_loss: 1.6627 - val_accuracy: 0.4165\n",
            "Epoch 4/20\n",
            "98/98 [==============================] - 1s 14ms/step - loss: 1.3921 - accuracy: 0.5103 - val_loss: 1.4321 - val_accuracy: 0.5043\n",
            "Epoch 5/20\n",
            "98/98 [==============================] - 1s 14ms/step - loss: 1.2836 - accuracy: 0.5516 - val_loss: 1.4915 - val_accuracy: 0.4787\n",
            "Epoch 6/20\n",
            "98/98 [==============================] - 1s 15ms/step - loss: 1.1940 - accuracy: 0.5840 - val_loss: 1.3057 - val_accuracy: 0.5480\n",
            "Epoch 7/20\n",
            "98/98 [==============================] - 1s 14ms/step - loss: 1.1316 - accuracy: 0.6083 - val_loss: 1.3397 - val_accuracy: 0.5470\n",
            "Epoch 8/20\n",
            "98/98 [==============================] - 1s 14ms/step - loss: 1.0675 - accuracy: 0.6301 - val_loss: 1.2223 - val_accuracy: 0.5837\n",
            "Epoch 9/20\n",
            "98/98 [==============================] - 1s 14ms/step - loss: 1.0111 - accuracy: 0.6512 - val_loss: 1.2658 - val_accuracy: 0.5818\n",
            "Epoch 10/20\n",
            "98/98 [==============================] - 1s 14ms/step - loss: 0.9675 - accuracy: 0.6627 - val_loss: 1.1404 - val_accuracy: 0.6140\n",
            "Epoch 11/20\n",
            "98/98 [==============================] - 1s 14ms/step - loss: 0.9218 - accuracy: 0.6809 - val_loss: 1.2505 - val_accuracy: 0.5863\n",
            "Epoch 12/20\n",
            "98/98 [==============================] - 1s 14ms/step - loss: 0.8755 - accuracy: 0.6957 - val_loss: 1.1020 - val_accuracy: 0.6305\n",
            "Epoch 13/20\n",
            "98/98 [==============================] - 1s 15ms/step - loss: 0.8396 - accuracy: 0.7092 - val_loss: 1.2190 - val_accuracy: 0.6010\n",
            "Epoch 14/20\n",
            "98/98 [==============================] - 1s 14ms/step - loss: 0.8063 - accuracy: 0.7216 - val_loss: 1.1283 - val_accuracy: 0.6374\n",
            "Epoch 15/20\n",
            "98/98 [==============================] - 1s 14ms/step - loss: 0.7701 - accuracy: 0.7315 - val_loss: 1.3365 - val_accuracy: 0.5842\n",
            "Epoch 16/20\n",
            "98/98 [==============================] - 1s 14ms/step - loss: 0.7435 - accuracy: 0.7417 - val_loss: 1.1194 - val_accuracy: 0.6379\n",
            "Epoch 17/20\n",
            "98/98 [==============================] - 1s 14ms/step - loss: 0.7183 - accuracy: 0.7497 - val_loss: 1.1415 - val_accuracy: 0.6342\n",
            "Epoch 18/20\n",
            "98/98 [==============================] - 1s 14ms/step - loss: 0.6850 - accuracy: 0.7613 - val_loss: 1.1581 - val_accuracy: 0.6382\n",
            "Epoch 19/20\n",
            "98/98 [==============================] - 1s 14ms/step - loss: 0.6581 - accuracy: 0.7708 - val_loss: 1.2391 - val_accuracy: 0.6234\n",
            "Epoch 20/20\n",
            "98/98 [==============================] - 1s 14ms/step - loss: 0.6462 - accuracy: 0.7764 - val_loss: 1.2653 - val_accuracy: 0.6245\n",
            "Model: \"sequential_8\"\n",
            "_________________________________________________________________\n",
            "Layer (type)                 Output Shape              Param #   \n",
            "=================================================================\n",
            "conv2d_15 (Conv2D)           (None, 30, 30, 32)        896       \n",
            "_________________________________________________________________\n",
            "max_pooling2d_15 (MaxPooling (None, 15, 15, 32)        0         \n",
            "_________________________________________________________________\n",
            "conv2d_16 (Conv2D)           (None, 13, 13, 64)        18496     \n",
            "_________________________________________________________________\n",
            "max_pooling2d_16 (MaxPooling (None, 6, 6, 64)          0         \n",
            "_________________________________________________________________\n",
            "conv2d_17 (Conv2D)           (None, 4, 4, 64)          36928     \n",
            "_________________________________________________________________\n",
            "max_pooling2d_17 (MaxPooling (None, 2, 2, 64)          0         \n",
            "_________________________________________________________________\n",
            "flatten_8 (Flatten)          (None, 256)               0         \n",
            "_________________________________________________________________\n",
            "dense_25 (Dense)             (None, 64)                16448     \n",
            "_________________________________________________________________\n",
            "dense_26 (Dense)             (None, 10)                650       \n",
            "=================================================================\n",
            "Total params: 73,418\n",
            "Trainable params: 73,418\n",
            "Non-trainable params: 0\n",
            "_________________________________________________________________\n"
          ],
          "name": "stdout"
        },
        {
          "output_type": "display_data",
          "data": {
            "image/png": "[encoded data removed]",
            "text/plain": [
              "<Figure size 432x288 with 1 Axes>"
            ]
          },
          "metadata": {
            "tags": [],
            "needs_background": "light"
          }
        }
      ]
    },
    {
      "cell_type": "markdown",
      "metadata": {
        "id": "nKwrtPcy750Q"
      },
      "source": [
        "### What do you observe? Compare both the model by looking at their Accuracy vs Epoch plot and total numbers of trainable parameters."
      ]
    },
    {
      "cell_type": "code",
      "metadata": {
        "id": "Q2lFRCoL8N_b",
        "colab": {
          "base_uri": "https://localhost:8080/"
        },
        "outputId": "7320c993-7128-482c-b522-4eb38a0ad2d1"
      },
      "source": [
        "print(\"The CNN model is much better as compared to the fc model. \")\n",
        "print(\"Comparing Figure 1 and Figure 2, we see that the accuracy of the fc model is approximately 10 % while that of the CNN model is 66 %.\")\n",
        "print()\n",
        "print(\"Comparing Figure 2 and Figure 3, we see that increasing the number of epochs from 10 to 20 leads to overfitting in the CNN model\")\n",
        "\n"
      ],
      "execution_count": 19,
      "outputs": [
        {
          "output_type": "stream",
          "text": [
            "The CNN model is much better as compared to the fc model. \n",
            "Comparing Figure 1 and Figure 2, we see that the accuracy of the fc model is approximately 10 % while that of the CNN model is 66 %.\n",
            "\n",
            "Comparing Figure 2 and Figure 3, we see that increasing the number of epochs from 10 to 20 leads to overfitting in the CNN model\n"
          ],
          "name": "stdout"
        }
      ]
    }
  ]
}
